{
 "cells": [
  {
   "cell_type": "code",
   "execution_count": 1,
   "metadata": {},
   "outputs": [
    {
     "data": {
      "text/plain": [
       "'H:\\\\StockMaster'"
      ]
     },
     "execution_count": 1,
     "metadata": {},
     "output_type": "execute_result"
    }
   ],
   "source": [
    "# import os\n",
    "# os.chdir('../..')\n",
    "# os.getcwd()"
   ]
  },
  {
   "cell_type": "code",
   "execution_count": 1,
   "metadata": {},
   "outputs": [],
   "source": [
    "import warnings\n",
    "warnings.filterwarnings(\"ignore\")"
   ]
  },
  {
   "cell_type": "code",
   "execution_count": 3,
   "metadata": {},
   "outputs": [],
   "source": [
    "import pandas as pd\n",
    "import seaborn as sns\n",
    "import numpy as np\n",
    "import matplotlib.pyplot as plt\n",
    "from tensorflow.keras.models import load_model\n",
    "\n",
    "from sklearn.preprocessing import MinMaxScaler\n",
    "\n",
    "import FundamentalAnalysis as fa\n",
    "\n"
   ]
  },
  {
   "cell_type": "code",
   "execution_count": 4,
   "metadata": {},
   "outputs": [],
   "source": [
    "import pandas_datareader as pdr\n",
    "df= pdr.get_data_yahoo('AAPL', '2000-01-01')"
   ]
  },
  {
   "cell_type": "code",
   "execution_count": 5,
   "metadata": {},
   "outputs": [],
   "source": [
    "# log 정규화\n",
    "def nplog(dataframe):\n",
    "    \n",
    "    temp = np.log(dataframe)\n",
    "    \n",
    "    return temp\n",
    "\n",
    "# indicator 계산\n",
    "def get_indicators(dataframe, *indicators):\n",
    "    \n",
    "    from Indicator import get_Bolinger_Band\n",
    "    from Indicator import get_DMI\n",
    "    from Indicator import get_MACD\n",
    "    from Indicator import get_RSI\n",
    "    \n",
    "    \n",
    "\n",
    "    BAND = get_Bolinger_Band.fnBolingerBand\n",
    "    DMI = get_DMI.cal_dmi\n",
    "    MACD = get_MACD.fnMACD\n",
    "    RSI = get_RSI.fnRSI\n",
    "    \n",
    "    \n",
    "    for indicator in indicators:\n",
    "        \n",
    "        if indicator == 'DMI':\n",
    "            DMI(dataframe)\n",
    "        elif indicator == 'MACD':\n",
    "            MACD(dataframe)\n",
    "        elif indicator == 'RSI':\n",
    "            RSI(dataframe)\n",
    "        elif indicator == 'BAND':\n",
    "            BAND(dataframe)\n",
    "    \n",
    "    dataframe.dropna(inplace=True)\n",
    "    \n",
    "    return dataframe\n",
    "\n",
    "# minmax scale\n",
    "def make_sc_col_df(train_scdf):\n",
    "    for i in train_scdf.columns:\n",
    "        globals()['scaler_{}'.format(i)] = MinMaxScaler()\n",
    "        print(\"df_{}\".format(i))\n",
    "        globals()[\"df_{}\".format(i)] = train_scdf[[i]]\n",
    "        globals()[\"df_{}\".format(i)] = globals()['scaler_{}'.format(i)].fit_transform(globals()[\"df_{}\".format(i)])\n",
    "        globals()[\"df_{}\".format(i)] = pd.DataFrame(globals()[\"df_{}\".format(i)])\n",
    "        globals()[\"df_{}\".format(i)].index = train_scdf.index\n",
    "        globals()[\"df_{}\".format(i)].columns = [i]\n",
    "\n",
    "    return globals()[\"df_{}\".format(i)]\n",
    "\n",
    "# shift data\n",
    "def shift_df(*dataframes, start=1, end=3):  \n",
    "    shift_num = end\n",
    "    for dataframe in dataframes:\n",
    "        for s in range(start, end):\n",
    "            dataframe['shift_{}'.format(s)] = dataframe[dataframe.columns[0]].shift(s)\n",
    "        dataframe.dropna(inplace=True)\n",
    "    return dataframe\n",
    "\n",
    "# concat dataframe\n",
    "def df_concat(*dataframes):\n",
    "    all_Df =  pd.concat([*dataframes], axis=1)\n",
    "    all_Df.dropna(inplace=True)\n",
    "    return all_Df\n",
    "\n",
    "# drop original values\n",
    "def drop_ori_cols(all_df):\n",
    "    col_list = []\n",
    "    for i in all_df.columns:\n",
    "        if 'shift' in i:\n",
    "            pass\n",
    "        elif 'Close' in i:\n",
    "            pass\n",
    "        else:\n",
    "            col_list.append(i)\n",
    "    all_df.drop(col_list, axis=1, inplace=True)\n",
    "    \n",
    "    return all_df\n",
    "\n",
    "# set y target & split train test\n",
    "def set_split(all_df, num=1, xnum=200):\n",
    "    xdata = all_df.drop('Close', axis=1)[:-num]\n",
    "    ydata = all_df['Close'][num:].values\n",
    "    \n",
    "    x_train = xdata[:-xnum]\n",
    "    x_test = xdata[-xnum:]\n",
    "\n",
    "    ytrain = ydata[:-xnum]\n",
    "    ytest = ydata[-xnum:]\n",
    "    \n",
    "    shift_num = 2\n",
    "    x_train = np.array(x_train).reshape(len(x_train), int(len(x_train.columns)/shift_num), shift_num)\n",
    "    x_test = np.array(x_test).reshape(len(x_test), int(len(x_test.columns)/shift_num), shift_num)\n",
    "\n",
    "    \n",
    "    return x_train, x_test, ytrain, ytest\n",
    "\n",
    "# make LSTM model\n",
    "def LSTMmodel():\n",
    "    from tensorflow.keras.layers import LSTM \n",
    "    from tensorflow.keras.models import Sequential \n",
    "    from tensorflow.keras.layers import Dense \n",
    "    import tensorflow.keras.backend as K \n",
    "    from tensorflow.keras.callbacks import EarlyStopping\n",
    "\n",
    "\n",
    "    model3 = Sequential() # Sequeatial Model \n",
    "    model3.add(LSTM(20, input_shape=(x_train.shape[1], x_train.shape[2]))) # (timestep, feature) \n",
    "    model3.add(Dense(1)) # output = 1 \n",
    "    model3.compile(loss='mean_squared_error', optimizer='adam') \n",
    "    model3.summary()\n",
    "    \n",
    "    return model3\n",
    "\n",
    "# inverse predict \n",
    "def get_real(pred, scaler_Close):\n",
    "    \n",
    "    real = np.exp(scaler_Close.inverse_transform(pred))\n",
    "    real = pd.DataFrame(real, columns = pred.columns)\n",
    "    real['err'] = real['real'] - real['pred']\n",
    "    \n",
    "    return real\n",
    "\n",
    "# model save\n",
    "def save(model, name):\n",
    "    # 전체 모델을 HDF5 파일로 저장합니다\n",
    "    model.save('./src/parkjunsung/models/' + str(name) + '.h5')\n",
    "    \n",
    "# shift close\n",
    "def future_stock(dataframe):\n",
    "    for s in range(1, 2):\n",
    "        dataframe['shift_{}'.format(s)] = dataframe[dataframe.columns[0]].shift(s)\n",
    "    return dataframe"
   ]
  },
  {
   "cell_type": "code",
   "execution_count": 9,
   "metadata": {},
   "outputs": [
    {
     "name": "stdout",
     "output_type": "stream",
     "text": [
      "df_High\n",
      "df_Low\n",
      "df_Open\n",
      "df_Close\n",
      "df_Volume\n",
      "df_Adj Close\n",
      "df_PDI\n",
      "df_MDI\n",
      "df_ADX\n",
      "df_RSI_MACD\n",
      "df_EMAFast\n",
      "df_EMASlow\n",
      "df_MACD\n",
      "df_MACDSignal\n",
      "df_MACDDiff\n",
      "df_20d_ma\n",
      "df_Bol_upper\n",
      "df_Bol_lower\n"
     ]
    },
    {
     "data": {
      "text/html": [
       "<div>\n",
       "<style scoped>\n",
       "    .dataframe tbody tr th:only-of-type {\n",
       "        vertical-align: middle;\n",
       "    }\n",
       "\n",
       "    .dataframe tbody tr th {\n",
       "        vertical-align: top;\n",
       "    }\n",
       "\n",
       "    .dataframe thead th {\n",
       "        text-align: right;\n",
       "    }\n",
       "</style>\n",
       "<table border=\"1\" class=\"dataframe\">\n",
       "  <thead>\n",
       "    <tr style=\"text-align: right;\">\n",
       "      <th></th>\n",
       "      <th>Bol_lower</th>\n",
       "    </tr>\n",
       "    <tr>\n",
       "      <th>Date</th>\n",
       "      <th></th>\n",
       "    </tr>\n",
       "  </thead>\n",
       "  <tbody>\n",
       "    <tr>\n",
       "      <th>2000-02-17</th>\n",
       "      <td>0.242594</td>\n",
       "    </tr>\n",
       "    <tr>\n",
       "      <th>2000-02-18</th>\n",
       "      <td>0.242593</td>\n",
       "    </tr>\n",
       "    <tr>\n",
       "      <th>2000-02-22</th>\n",
       "      <td>0.243110</td>\n",
       "    </tr>\n",
       "    <tr>\n",
       "      <th>2000-02-23</th>\n",
       "      <td>0.242967</td>\n",
       "    </tr>\n",
       "    <tr>\n",
       "      <th>2000-02-24</th>\n",
       "      <td>0.243023</td>\n",
       "    </tr>\n",
       "    <tr>\n",
       "      <th>...</th>\n",
       "      <td>...</td>\n",
       "    </tr>\n",
       "    <tr>\n",
       "      <th>2020-07-06</th>\n",
       "      <td>0.997545</td>\n",
       "    </tr>\n",
       "    <tr>\n",
       "      <th>2020-07-07</th>\n",
       "      <td>0.998926</td>\n",
       "    </tr>\n",
       "    <tr>\n",
       "      <th>2020-07-08</th>\n",
       "      <td>0.998954</td>\n",
       "    </tr>\n",
       "    <tr>\n",
       "      <th>2020-07-09</th>\n",
       "      <td>0.998602</td>\n",
       "    </tr>\n",
       "    <tr>\n",
       "      <th>2020-07-10</th>\n",
       "      <td>1.000000</td>\n",
       "    </tr>\n",
       "  </tbody>\n",
       "</table>\n",
       "<p>5131 rows × 1 columns</p>\n",
       "</div>"
      ],
      "text/plain": [
       "            Bol_lower\n",
       "Date                 \n",
       "2000-02-17   0.242594\n",
       "2000-02-18   0.242593\n",
       "2000-02-22   0.243110\n",
       "2000-02-23   0.242967\n",
       "2000-02-24   0.243023\n",
       "...               ...\n",
       "2020-07-06   0.997545\n",
       "2020-07-07   0.998926\n",
       "2020-07-08   0.998954\n",
       "2020-07-09   0.998602\n",
       "2020-07-10   1.000000\n",
       "\n",
       "[5131 rows x 1 columns]"
      ]
     },
     "execution_count": 9,
     "metadata": {},
     "output_type": "execute_result"
    }
   ],
   "source": [
    "log_df = nplog(df)\n",
    "indicators = get_indicators(log_df, 'DMI', 'RSI', 'MACD', 'BAND')\n",
    "make_sc_col_df(indicators)"
   ]
  },
  {
   "cell_type": "code",
   "execution_count": 6,
   "metadata": {},
   "outputs": [
    {
     "name": "stdout",
     "output_type": "stream",
     "text": [
      "WARNING:tensorflow:From C:\\ProgramData\\Anaconda3\\lib\\site-packages\\tensorflow\\python\\ops\\init_ops.py:97: calling GlorotUniform.__init__ (from tensorflow.python.ops.init_ops) with dtype is deprecated and will be removed in a future version.\n",
      "Instructions for updating:\n",
      "Call initializer instance with the dtype argument instead of passing it to the constructor\n",
      "WARNING:tensorflow:From C:\\ProgramData\\Anaconda3\\lib\\site-packages\\tensorflow\\python\\ops\\init_ops.py:1251: calling VarianceScaling.__init__ (from tensorflow.python.ops.init_ops) with dtype is deprecated and will be removed in a future version.\n",
      "Instructions for updating:\n",
      "Call initializer instance with the dtype argument instead of passing it to the constructor\n",
      "WARNING:tensorflow:From C:\\ProgramData\\Anaconda3\\lib\\site-packages\\tensorflow\\python\\ops\\init_ops.py:97: calling Orthogonal.__init__ (from tensorflow.python.ops.init_ops) with dtype is deprecated and will be removed in a future version.\n",
      "Instructions for updating:\n",
      "Call initializer instance with the dtype argument instead of passing it to the constructor\n",
      "WARNING:tensorflow:From C:\\ProgramData\\Anaconda3\\lib\\site-packages\\tensorflow\\python\\ops\\init_ops.py:97: calling Zeros.__init__ (from tensorflow.python.ops.init_ops) with dtype is deprecated and will be removed in a future version.\n",
      "Instructions for updating:\n",
      "Call initializer instance with the dtype argument instead of passing it to the constructor\n",
      "WARNING:tensorflow:From C:\\ProgramData\\Anaconda3\\lib\\site-packages\\tensorflow\\python\\ops\\math_grad.py:1250: add_dispatch_support.<locals>.wrapper (from tensorflow.python.ops.array_ops) is deprecated and will be removed in a future version.\n",
      "Instructions for updating:\n",
      "Use tf.where in 2.0, which has the same broadcast rule as np.where\n",
      "Model: \"sequential\"\n",
      "_________________________________________________________________\n",
      "Layer (type)                 Output Shape              Param #   \n",
      "=================================================================\n",
      "lstm (LSTM)                  (None, 20)                1840      \n",
      "_________________________________________________________________\n",
      "dense (Dense)                (None, 1)                 21        \n",
      "=================================================================\n",
      "Total params: 1,861\n",
      "Trainable params: 1,861\n",
      "Non-trainable params: 0\n",
      "_________________________________________________________________\n"
     ]
    }
   ],
   "source": [
    "new_model = load_model('./src/parkjunsung/models/stock_master.h5')\n",
    "new_model.summary()"
   ]
  },
  {
   "cell_type": "code",
   "execution_count": 14,
   "metadata": {},
   "outputs": [
    {
     "data": {
      "text/html": [
       "<div>\n",
       "<style scoped>\n",
       "    .dataframe tbody tr th:only-of-type {\n",
       "        vertical-align: middle;\n",
       "    }\n",
       "\n",
       "    .dataframe tbody tr th {\n",
       "        vertical-align: top;\n",
       "    }\n",
       "\n",
       "    .dataframe thead th {\n",
       "        text-align: right;\n",
       "    }\n",
       "</style>\n",
       "<table border=\"1\" class=\"dataframe\">\n",
       "  <thead>\n",
       "    <tr style=\"text-align: right;\">\n",
       "      <th></th>\n",
       "      <th>Close</th>\n",
       "      <th>shift_1</th>\n",
       "    </tr>\n",
       "    <tr>\n",
       "      <th>Date</th>\n",
       "      <th></th>\n",
       "      <th></th>\n",
       "    </tr>\n",
       "  </thead>\n",
       "  <tbody>\n",
       "    <tr>\n",
       "      <th>2020-07-10</th>\n",
       "      <td>383.679993</td>\n",
       "      <td>383.01001</td>\n",
       "    </tr>\n",
       "  </tbody>\n",
       "</table>\n",
       "</div>"
      ],
      "text/plain": [
       "                 Close    shift_1\n",
       "Date                             \n",
       "2020-07-10  383.679993  383.01001"
      ]
     },
     "execution_count": 14,
     "metadata": {},
     "output_type": "execute_result"
    }
   ],
   "source": [
    "target = future_stock(df[['Close']])[-1:]\n",
    "target"
   ]
  },
  {
   "cell_type": "code",
   "execution_count": 177,
   "metadata": {},
   "outputs": [
    {
     "data": {
      "text/plain": [
       "array([[495.8316]], dtype=float32)"
      ]
     },
     "execution_count": 177,
     "metadata": {},
     "output_type": "execute_result"
    }
   ],
   "source": [
    "logg = nplog(target)\n",
    "sc_test = scaler_Close.transform(logg)\n",
    "sc_test = sc_test.reshape(1, sc_test.shape[0], sc_test.shape[1])\n",
    "real = np.exp(scaler_Close.inverse_transform(new_model.predict(sc_test)))\n",
    "real"
   ]
  },
  {
   "cell_type": "code",
   "execution_count": 178,
   "metadata": {},
   "outputs": [],
   "source": [
    "pred_future = pd.DataFrame(real, columns=['Close'], index=['2020-07-14'])\n",
    "pred_future = pd.concat([target, pred_future], axis=0).drop(['shift_1'], axis=1)"
   ]
  },
  {
   "cell_type": "code",
   "execution_count": 179,
   "metadata": {},
   "outputs": [
    {
     "data": {
      "text/html": [
       "<div>\n",
       "<style scoped>\n",
       "    .dataframe tbody tr th:only-of-type {\n",
       "        vertical-align: middle;\n",
       "    }\n",
       "\n",
       "    .dataframe tbody tr th {\n",
       "        vertical-align: top;\n",
       "    }\n",
       "\n",
       "    .dataframe thead th {\n",
       "        text-align: right;\n",
       "    }\n",
       "</style>\n",
       "<table border=\"1\" class=\"dataframe\">\n",
       "  <thead>\n",
       "    <tr style=\"text-align: right;\">\n",
       "      <th></th>\n",
       "      <th>Close</th>\n",
       "      <th>shift_1</th>\n",
       "    </tr>\n",
       "  </thead>\n",
       "  <tbody>\n",
       "    <tr>\n",
       "      <th>2020-07-14</th>\n",
       "      <td>495.831604</td>\n",
       "      <td>495.134613</td>\n",
       "    </tr>\n",
       "  </tbody>\n",
       "</table>\n",
       "</div>"
      ],
      "text/plain": [
       "                 Close     shift_1\n",
       "2020-07-14  495.831604  495.134613"
      ]
     },
     "execution_count": 179,
     "metadata": {},
     "output_type": "execute_result"
    }
   ],
   "source": [
    "target = future_stock(pred_future)[-1:]\n",
    "target"
   ]
  },
  {
   "cell_type": "code",
   "execution_count": 137,
   "metadata": {},
   "outputs": [
    {
     "data": {
      "text/plain": [
       "array([[487.85056]], dtype=float32)"
      ]
     },
     "execution_count": 137,
     "metadata": {},
     "output_type": "execute_result"
    }
   ],
   "source": [
    "logg = nplog(target)\n",
    "sc_test = scaler_Close.transform(logg)\n",
    "sc_test = sc_test.reshape(1, sc_test.shape[0], sc_test.shape[1])\n",
    "real = np.exp(scaler_Close.inverse_transform(new_model.predict(sc_test)))\n",
    "real"
   ]
  },
  {
   "cell_type": "code",
   "execution_count": null,
   "metadata": {},
   "outputs": [],
   "source": []
  },
  {
   "cell_type": "code",
   "execution_count": null,
   "metadata": {},
   "outputs": [],
   "source": []
  },
  {
   "cell_type": "code",
   "execution_count": null,
   "metadata": {},
   "outputs": [],
   "source": []
  }
 ],
 "metadata": {
  "kernelspec": {
   "display_name": "Python 3",
   "language": "python",
   "name": "python3"
  },
  "language_info": {
   "codemirror_mode": {
    "name": "ipython",
    "version": 3
   },
   "file_extension": ".py",
   "mimetype": "text/x-python",
   "name": "python",
   "nbconvert_exporter": "python",
   "pygments_lexer": "ipython3",
   "version": "3.7.6"
  }
 },
 "nbformat": 4,
 "nbformat_minor": 4
}
